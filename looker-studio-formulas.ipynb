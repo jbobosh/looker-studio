{
 "cells": [
  {
   "cell_type": "markdown",
   "metadata": {},
   "source": [
    "# Helpful Google Looker Studio Formulas #"
   ]
  },
  {
   "cell_type": "markdown",
   "metadata": {},
   "source": [
    "I've been using [Google's Looker Studio](https://lookerstudio.google.com/) for more than a decade to build reports for Google Analytics. In this time, I've come up discovered several calculated fields I've ended up using over and over."
   ]
  },
  {
   "cell_type": "markdown",
   "metadata": {},
   "source": [
    "## Hyperlinked Page Paths ##"
   ]
  },
  {
   "cell_type": "markdown",
   "metadata": {},
   "source": [
    "In most tables, you don't need to show the URL domain because it is the same for all links and can take up space unnecessarily. However, you may want to hyperlink the page paths so the user can quickly jump to the page shown in the report.  Creating a [calculated field](https://cloud.google.com/looker/docs/studio/about-calculated-fields) with the following formula will hyperlink page paths. "
   ]
  },
  {
   "cell_type": "code",
   "execution_count": null,
   "metadata": {},
   "outputs": [],
   "source": [
    "HYPERLINK(CONCAT(Hostname,Page path),Page path)"
   ]
  },
  {
   "cell_type": "markdown",
   "metadata": {},
   "source": [
    "This formula can be used for landing pages and other page path variations as well."
   ]
  },
  {
   "cell_type": "markdown",
   "metadata": {},
   "source": [
    "## Combining Variations of Facebook.com URLs ##"
   ]
  },
  {
   "cell_type": "markdown",
   "metadata": {},
   "source": [
    "When looking at referral data, you may several variations of Facebook.com domains - l.facebook.com, m.facebook, and so on. We sometimes see this for Instagram as well.  \n",
    "\n",
    "Creating a calculated field with the following formula will combine all of those variations into one - facebook.com, allowing you to quickly see how much traffic is coming from all the various Facebook domains on one row in a table. "
   ]
  },
  {
   "cell_type": "code",
   "execution_count": null,
   "metadata": {},
   "outputs": [],
   "source": [
    "Case\n",
    "\twhen REGEXP_MATCH(Session source, \".*facebook.*\") then \"facebook.com\"\n",
    "\twhen REGEXP_MATCH(Session source, \".*instagram.*\") then \"instagram.com\"\n",
    "\telse Session source \n",
    "end "
   ]
  },
  {
   "cell_type": "markdown",
   "metadata": {},
   "source": [
    "## Days in Date Range ##"
   ]
  },
  {
   "cell_type": "markdown",
   "metadata": {},
   "source": [
    "On occasion, I've needed to calculate the days in a date range.  The following calculated field formula will allow you to visualize this data in a table."
   ]
  },
  {
   "cell_type": "code",
   "execution_count": null,
   "metadata": {},
   "outputs": [],
   "source": [
    "max(DATE_DIFF(TODAY(),Date))"
   ]
  },
  {
   "cell_type": "markdown",
   "metadata": {},
   "source": [
    "## Extracting the Top Level Folder from a URL ##"
   ]
  },
  {
   "cell_type": "markdown",
   "metadata": {},
   "source": [
    "On occasion, you'll need to extract the top level directory from a URL when doing an analysis.  To do this, use the following calculated field formula. "
   ]
  },
  {
   "cell_type": "code",
   "execution_count": null,
   "metadata": {},
   "outputs": [],
   "source": [
    "REGEXP_EXTRACT(Page path, '\\\\/([a-zA-Z0-9-]+)\\\\/')"
   ]
  },
  {
   "cell_type": "markdown",
   "metadata": {},
   "source": [
    "# Need additional Help? #"
   ]
  },
  {
   "cell_type": "markdown",
   "metadata": {},
   "source": [
    "Need a hand with building Looker Studio reports?  Send me an email at [jbobosh@gmail.com](mailto:jbobosh@gmail.com)."
   ]
  },
  {
   "cell_type": "markdown",
   "metadata": {},
   "source": []
  }
 ],
 "metadata": {
  "kernelspec": {
   "display_name": "Python 3",
   "language": "python",
   "name": "python3"
  },
  "language_info": {
   "codemirror_mode": {
    "name": "ipython",
    "version": 3
   },
   "file_extension": ".py",
   "mimetype": "text/x-python",
   "name": "python",
   "nbconvert_exporter": "python",
   "pygments_lexer": "ipython3",
   "version": "3.11.5"
  }
 },
 "nbformat": 4,
 "nbformat_minor": 2
}
