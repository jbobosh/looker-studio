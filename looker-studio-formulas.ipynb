{
 "cells": [
  {
   "cell_type": "markdown",
   "metadata": {},
   "source": [
    "# Helpful Google Looker Studio Formulas for GA4 #"
   ]
  },
  {
   "cell_type": "markdown",
   "metadata": {},
   "source": [
    "I've been using [Google's Looker Studio](https://lookerstudio.google.com/) for more than a decade to build reports for Google Analytics. In this time, I discovered several [calculated fields](https://cloud.google.com/looker/docs/studio/about-calculated-fields) I've ended up using over and over."
   ]
  },
  {
   "cell_type": "markdown",
   "metadata": {},
   "source": [
    "## Hyperlinked Page Paths ##"
   ]
  },
  {
   "cell_type": "markdown",
   "metadata": {},
   "source": [
    "In most tables, you don't need to show the URL domain because it is the same for all links and can take up space unnecessarily. However, you may want to hyperlink the page paths so the user can quickly jump to the page shown in the report.  Creating a calculated field with the following formula will hyperlink page paths. "
   ]
  },
  {
   "cell_type": "code",
   "execution_count": null,
   "metadata": {
    "vscode": {
     "languageId": "sql"
    }
   },
   "outputs": [],
   "source": [
    "HYPERLINK(CONCAT(Hostname,Page path),Page path)"
   ]
  },
  {
   "cell_type": "markdown",
   "metadata": {},
   "source": [
    "This formula can be used for landing pages and other page path variations as well."
   ]
  },
  {
   "cell_type": "markdown",
   "metadata": {},
   "source": [
    "## Combining Variations of Facebook.com URLs ##"
   ]
  },
  {
   "cell_type": "markdown",
   "metadata": {},
   "source": [
    "When looking at session source data, you may see several variations of Facebook.com domains - l.facebook.com, m.facebook, and so on. We see this for Instagram as well.  \n",
    "\n",
    "Creating a calculated field with the following formula will combine all of those domain variations into one session source - facebook.com and instagram.com, allowing you to quickly see how much traffic is coming from all the various Facebook domains on one row in a table."
   ]
  },
  {
   "cell_type": "code",
   "execution_count": null,
   "metadata": {
    "vscode": {
     "languageId": "sql"
    }
   },
   "outputs": [],
   "source": [
    "CASE\n",
    "\tWHEN REGEXP_MATCH(Session source, \".*facebook.*\") THEN \"facebook.com\"\n",
    "\tWHEN REGEXP_MATCH(Session source, \".*instagram.*\") THEN \"instagram.com\"\n",
    "\tELSE Session source \n",
    "END "
   ]
  },
  {
   "cell_type": "markdown",
   "metadata": {},
   "source": [
    "## Days in Date Range ##"
   ]
  },
  {
   "cell_type": "markdown",
   "metadata": {},
   "source": [
    "If you need to calculate a daily average for a metric, you'll first need to calculate the days in the date range.  Divide the metric by this calculated field to determine the daily average in a given date range."
   ]
  },
  {
   "cell_type": "code",
   "execution_count": null,
   "metadata": {
    "vscode": {
     "languageId": "sql"
    }
   },
   "outputs": [],
   "source": [
    "max(DATE_DIFF(TODAY(),Date))"
   ]
  },
  {
   "cell_type": "markdown",
   "metadata": {},
   "source": [
    "## Extracting the Top Level Folder from a URL ##"
   ]
  },
  {
   "cell_type": "markdown",
   "metadata": {},
   "source": [
    "On occasion, you'll need to extract the top level directory from a URL when doing an analysis.  To do this, use the following calculated field formula. "
   ]
  },
  {
   "cell_type": "code",
   "execution_count": null,
   "metadata": {
    "vscode": {
     "languageId": "sql"
    }
   },
   "outputs": [],
   "source": [
    "REGEXP_EXTRACT(Page path, '\\\\/([a-zA-Z0-9-]+)\\\\/')"
   ]
  },
  {
   "cell_type": "markdown",
   "metadata": {},
   "source": [
    "## Combine or Rename Events ##"
   ]
  },
  {
   "cell_type": "markdown",
   "metadata": {},
   "source": [
    "The following calculated formula can be used to combine or transform event names.  In the example formula, I combined several \"login\" events and renamed another event for clarity."
   ]
  },
  {
   "cell_type": "code",
   "execution_count": null,
   "metadata": {
    "vscode": {
     "languageId": "sql"
    }
   },
   "outputs": [],
   "source": [
    "CASE\n",
    "\tWHEN Event name IN (\"login_start_login\",\"login_start_id_me\",\"login_start_username\") THEN \"Login\"\n",
    "\tWHEN Event name IN (\"sign_up_start_login\") THEN \"Sign Up\"\n",
    "\tELSE Event name\n",
    "END"
   ]
  },
  {
   "cell_type": "markdown",
   "metadata": {},
   "source": [
    "## Cleaning Search Term Variations ##"
   ]
  },
  {
   "cell_type": "markdown",
   "metadata": {},
   "source": [
    "Google Analytics records variations of search terms separately in its database. This calculated formula will make all of the search terms lower case and remove leading or trailing spaces you might not have noticed. "
   ]
  },
  {
   "cell_type": "code",
   "execution_count": null,
   "metadata": {
    "vscode": {
     "languageId": "sql"
    }
   },
   "outputs": [],
   "source": [
    "TRIM(LOWER(Search term))"
   ]
  },
  {
   "cell_type": "markdown",
   "metadata": {},
   "source": [
    "## Performance Indicators ##"
   ]
  },
  {
   "cell_type": "markdown",
   "metadata": {},
   "source": [
    "Adding a KPI indicator helps to add context, letting the reader know if the results are good or bad.  In this example formula, there are several tiers for interpreting conversion rates.  Adjust your tiers as appropriate for your metrics. "
   ]
  },
  {
   "cell_type": "code",
   "execution_count": null,
   "metadata": {
    "vscode": {
     "languageId": "sql"
    }
   },
   "outputs": [],
   "source": [
    "IF(Click conversion rate <= .02, 'Underperforming', \n",
    "\tIF(Click conversion rate > .02 AND Click conversion rate <= .05 , 'Performing', \n",
    "    IF(Click conversion rate > .05 AND Conversions >= 1,'Overperforming', \n",
    "    'Amazing')\n",
    "    )\n",
    ") "
   ]
  },
  {
   "cell_type": "markdown",
   "metadata": {},
   "source": [
    "# Need additional Help? #"
   ]
  },
  {
   "cell_type": "markdown",
   "metadata": {},
   "source": [
    "Need a hand building Looker Studio reports?  Send me an email at [jbobosh@gmail.com](mailto:jbobosh@gmail.com)."
   ]
  },
  {
   "cell_type": "markdown",
   "metadata": {},
   "source": []
  }
 ],
 "metadata": {
  "kernelspec": {
   "display_name": "Python 3",
   "language": "python",
   "name": "python3"
  },
  "language_info": {
   "codemirror_mode": {
    "name": "ipython",
    "version": 3
   },
   "file_extension": ".py",
   "mimetype": "text/x-python",
   "name": "python",
   "nbconvert_exporter": "python",
   "pygments_lexer": "ipython3",
   "version": "3.11.5"
  }
 },
 "nbformat": 4,
 "nbformat_minor": 2
}
